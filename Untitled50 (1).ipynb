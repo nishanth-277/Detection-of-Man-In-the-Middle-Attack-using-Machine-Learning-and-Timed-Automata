{
  "nbformat": 4,
  "nbformat_minor": 0,
  "metadata": {
    "colab": {
      "provenance": []
    },
    "kernelspec": {
      "name": "python3",
      "display_name": "Python 3"
    },
    "language_info": {
      "name": "python"
    }
  },
  "cells": [
    {
      "cell_type": "code",
      "execution_count": 1,
      "metadata": {
        "colab": {
          "base_uri": "https://localhost:8080/"
        },
        "id": "DlalvCF5aB3r",
        "outputId": "a86cf2be-9ef8-4929-ad6e-b066062e6fd1"
      },
      "outputs": [
        {
          "output_type": "stream",
          "name": "stdout",
          "text": [
            "Accuracy: 0.9964689265536724\n"
          ]
        }
      ],
      "source": [
        "# Importing necessary libraries\n",
        "import pandas as pd\n",
        "from sklearn.model_selection import train_test_split\n",
        "from sklearn.ensemble import RandomForestClassifier\n",
        "from sklearn.metrics import accuracy_score\n",
        "\n",
        "# Load the data\n",
        "data = pd.read_csv(\"MIM-Final.csv\")\n",
        "\n",
        "# Split the data into features and target variable\n",
        "X = data.drop(columns=['Label'])\n",
        "y = data['Label']\n",
        "\n",
        "# Splitting the data into training and testing sets\n",
        "X_train, X_test, y_train, y_test = train_test_split(X, y, test_size=0.3, random_state=42)\n",
        "\n",
        "# Initialize Random Forest classifier\n",
        "rf_classifier = RandomForestClassifier(n_estimators=100, random_state=42)\n",
        "\n",
        "# Train the classifier\n",
        "rf_classifier.fit(X_train, y_train)\n",
        "\n",
        "# Predictions on the testing set\n",
        "y_pred = rf_classifier.predict(X_test)\n",
        "\n",
        "# Calculate accuracy\n",
        "accuracy = accuracy_score(y_test, y_pred)\n",
        "print(\"Accuracy:\", accuracy)\n",
        "\n",
        "# Example of predicting a new data point\n",
        "# new_data_point = [[value_IRTT, value_TTOC, value_MITR, value_MATR]]\n",
        "# prediction = rf_classifier.predict(new_data_point)\n",
        "# print(\"Prediction for the new data point:\", prediction)\n"
      ]
    },
    {
      "cell_type": "code",
      "source": [
        "import pandas as pd\n",
        "df=pd.read_csv(\"Test.csv\")\n",
        "df['Label'] = df['Label'].apply(lambda x: 1 if x == 1 else 0)\n",
        "df.to_csv('test.csv', index=False)"
      ],
      "metadata": {
        "id": "X8ArH4KSeMj_"
      },
      "execution_count": null,
      "outputs": []
    },
    {
      "cell_type": "code",
      "source": [
        "# Importing necessary libraries\n",
        "import pandas as pd\n",
        "from sklearn.ensemble import RandomForestClassifier\n",
        "from sklearn.metrics import accuracy_score\n",
        "import joblib\n",
        "\n",
        "# Load the training and testing data\n",
        "train_data = pd.read_csv(\"MIM-Final.csv\")\n",
        "test_data = pd.read_csv(\"Test-FINAL.csv\")\n",
        "\n",
        "# Split the training data into features and target variable\n",
        "X_train = train_data.drop(columns=['Label'])\n",
        "y_train = train_data['Label']\n",
        "\n",
        "# Split the testing data into features and target variable\n",
        "X_test = test_data.drop(columns=['Label'])\n",
        "y_test = test_data['Label']\n",
        "\n",
        "# Initialize Random Forest classifier\n",
        "rf_classifier = RandomForestClassifier(n_estimators=100, random_state=42)\n",
        "\n",
        "# Train the classifier\n",
        "rf_classifier.fit(X_train, y_train)\n",
        "\n",
        "joblib.dump(rf_classifier, 'random_forest_model.pkl')\n",
        "# Predictions on the testing set\n",
        "y_pred = rf_classifier.predict(X_test)\n",
        "\n",
        "# Calculate accuracy\n",
        "accuracy = accuracy_score(y_test, y_pred)\n",
        "print(\"Accuracy:\", accuracy)\n",
        "\n",
        "# Example of predicting a new data point\n",
        "# new_data_point = [[value_IRTT, value_TTOC, value_MITR, value_MATR]]\n",
        "# prediction = rf_classifier.predict(new_data_point)\n",
        "# print(\"Prediction for the new data point:\", prediction)\n"
      ],
      "metadata": {
        "colab": {
          "base_uri": "https://localhost:8080/"
        },
        "id": "aJNTKQftfPvW",
        "outputId": "4988e7a6-1e07-473d-c524-abf3b35ff2a2"
      },
      "execution_count": 12,
      "outputs": [
        {
          "output_type": "stream",
          "name": "stdout",
          "text": [
            "Accuracy: 0.8758915834522111\n"
          ]
        }
      ]
    }
  ]
}